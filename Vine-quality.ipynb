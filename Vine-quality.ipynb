{
  "nbformat": 4,
  "nbformat_minor": 0,
  "metadata": {
    "colab": {
      "name": "Experience with vine quality dataset using tf.data & tf.keras & tensorflow.ipynb",
      "version": "0.3.2",
      "provenance": [],
      "private_outputs": true,
      "collapsed_sections": [],
      "include_colab_link": true
    },
    "kernelspec": {
      "name": "python2",
      "display_name": "Python 2"
    }
  },
  "cells": [
    {
      "cell_type": "markdown",
      "metadata": {
        "id": "view-in-github",
        "colab_type": "text"
      },
      "source": [
        "<a href=\"https://colab.research.google.com/github/raut-sam/starting-with-colab/blob/master/Vine-quality.ipynb\" target=\"_parent\"><img src=\"https://colab.research.google.com/assets/colab-badge.svg\" alt=\"Open In Colab\"/></a>"
      ]
    },
    {
      "cell_type": "markdown",
      "metadata": {
        "id": "JatG0ZNHOBd8",
        "colab_type": "text"
      },
      "source": [
        "# Experience with iris dataset using tf.keras & tensorflow"
      ]
    },
    {
      "cell_type": "code",
      "metadata": {
        "id": "v0a-vcttI8f-",
        "colab_type": "code",
        "colab": {}
      },
      "source": [
        "import tensorflow as tf\n",
        "import pandas as pd\n",
        "import numpy as np"
      ],
      "execution_count": 0,
      "outputs": []
    },
    {
      "cell_type": "code",
      "metadata": {
        "id": "WScbsWWqmAvq",
        "colab_type": "code",
        "colab": {}
      },
      "source": [
        "#pip install tensorflow==1.14.0"
      ],
      "execution_count": 0,
      "outputs": []
    },
    {
      "cell_type": "code",
      "metadata": {
        "id": "YKYIRdF4mMNj",
        "colab_type": "code",
        "colab": {}
      },
      "source": [
        "print(tf.__version__)"
      ],
      "execution_count": 0,
      "outputs": []
    },
    {
      "cell_type": "markdown",
      "metadata": {
        "id": "ibZfNz2iRFIz",
        "colab_type": "text"
      },
      "source": [
        "## Data download and dataset creation witout tf.data"
      ]
    },
    {
      "cell_type": "code",
      "metadata": {
        "id": "sMgSBFkmu5rs",
        "colab_type": "code",
        "colab": {}
      },
      "source": [
        "ds_url = \"https://archive.ics.uci.edu/ml/machine-learning-databases/wine-quality/winequality-red.csv\"\n",
        "column_names = ['fixed acidity', 'volatile acidity', 'citric acid', 'residual sugar', 'chlorides',\n",
        "                    'free sulfur dioxide', 'total sulfur dioxide', 'density', 'pH', 'sulphates', 'alcohol', 'quality']\n",
        "\n",
        "#species = np.array(['Setosa', 'Versicolor', 'Virginica'], dtype=np.object)"
      ],
      "execution_count": 0,
      "outputs": []
    },
    {
      "cell_type": "markdown",
      "metadata": {
        "id": "HZP9j6sJ1a6u",
        "colab_type": "text"
      },
      "source": [
        "## Load data"
      ]
    },
    {
      "cell_type": "code",
      "metadata": {
        "id": "T9UHLPUqubG9",
        "colab_type": "code",
        "colab": {}
      },
      "source": [
        "dataset_path = tf.keras.utils.get_file(ds_url.split('/')[-1], ds_url)\n",
        "dataset_csv = pd.read_csv(dataset_path, names=column_names,\n",
        "                              na_values=\"?\", comment='\\t',\n",
        "                              sep=\";\", skipinitialspace=True, header=0)\n",
        "\n",
        "dataset_final = dataset_csv[['alcohol','chlorides','quality']]\n",
        "\n"
      ],
      "execution_count": 0,
      "outputs": []
    },
    {
      "cell_type": "code",
      "metadata": {
        "id": "n0LfTy527Jp7",
        "colab_type": "code",
        "colab": {}
      },
      "source": [
        "bins = (2,6.5,8)\n",
        "group_names = ['bad','good']\n",
        "categories = pd.cut(dataset_final['quality'], bins, labels = group_names)\n",
        "#dataset_final['quality'] = categories\n",
        "dataset_final['quality'] = categories.replace({ \"bad\":0, \"good\" : 1})"
      ],
      "execution_count": 0,
      "outputs": []
    },
    {
      "cell_type": "code",
      "metadata": {
        "id": "c5sp-fid8dFn",
        "colab_type": "code",
        "colab": {}
      },
      "source": [
        "train_dataset = dataset_final.sample(frac=0.8, random_state=0)\n",
        "test_dataset = dataset_final.drop(train_dataset.index)"
      ],
      "execution_count": 0,
      "outputs": []
    },
    {
      "cell_type": "code",
      "metadata": {
        "id": "hdNdpxylRToe",
        "colab_type": "code",
        "colab": {}
      },
      "source": [
        "train_dataset"
      ],
      "execution_count": 0,
      "outputs": []
    },
    {
      "cell_type": "code",
      "metadata": {
        "id": "WonBSOVp8UJt",
        "colab_type": "code",
        "colab": {}
      },
      "source": [
        "dataset_final['quality'] "
      ],
      "execution_count": 0,
      "outputs": []
    },
    {
      "cell_type": "code",
      "metadata": {
        "id": "DmYrtteJZV6x",
        "colab_type": "code",
        "colab": {}
      },
      "source": [
        "#train_dataset['quality'].value_counts()\n",
        "#c_train_dataset = train_dataset['quality'].replace({ 3:0, 4 : 1, 5 : 2, 6 : 3,7:4, 8:5})"
      ],
      "execution_count": 0,
      "outputs": []
    },
    {
      "cell_type": "code",
      "metadata": {
        "id": "w4T7z9IYavUI",
        "colab_type": "code",
        "colab": {}
      },
      "source": [
        "#c_train_dataset.value_counts()"
      ],
      "execution_count": 0,
      "outputs": []
    },
    {
      "cell_type": "code",
      "metadata": {
        "colab_type": "code",
        "id": "fbBJ7z_SKRvX",
        "colab": {}
      },
      "source": [
        "train_dataset = train_dataset.apply(pd.to_numeric)\n",
        "test_dataset = test_dataset.apply(pd.to_numeric)"
      ],
      "execution_count": 0,
      "outputs": []
    },
    {
      "cell_type": "code",
      "metadata": {
        "id": "eEpfTKfPKshe",
        "colab_type": "code",
        "colab": {}
      },
      "source": [
        "#test_dataset[\"quality\"].size()\n",
        "#train_dataset['quality'] = train_dataset['quality'].apply(str)\n",
        "###train_dataset['quality'] = train_dataset['quality'].astype(str)"
      ],
      "execution_count": 0,
      "outputs": []
    },
    {
      "cell_type": "code",
      "metadata": {
        "id": "DDeII74kCRgS",
        "colab_type": "code",
        "colab": {}
      },
      "source": [
        "#test_dataset\n",
        "train_features, train_categories = train_dataset, train_dataset.pop(\"quality\")\n",
        "test_features, test_categories = test_dataset, test_dataset.pop(\"quality\")"
      ],
      "execution_count": 0,
      "outputs": []
    },
    {
      "cell_type": "code",
      "metadata": {
        "id": "iCeUmg-yb4g8",
        "colab_type": "code",
        "colab": {}
      },
      "source": [
        "#final_categories = categories.replace({ 3:0, 4 : 1, 5 : 2, 6 : 3,7:4, 8:5})\n",
        "#final_test_categories = test_categories.replace({ 3:0, 4 : 1, 5 : 2, 6 : 3,7:4, 8:5})"
      ],
      "execution_count": 0,
      "outputs": []
    },
    {
      "cell_type": "code",
      "metadata": {
        "id": "qb2rVCsJHtne",
        "colab_type": "code",
        "colab": {}
      },
      "source": [
        "#train_dataset['quality'].value_counts()\n",
        "#categories.value_counts()\n",
        "#categories = categories.astype(str)"
      ],
      "execution_count": 0,
      "outputs": []
    },
    {
      "cell_type": "code",
      "metadata": {
        "id": "F9lcIaL5Rl9X",
        "colab_type": "code",
        "colab": {}
      },
      "source": [
        "#categories.value_counts()\n",
        "#len(final_categories)\n",
        "train_categories.value_counts()"
      ],
      "execution_count": 0,
      "outputs": []
    },
    {
      "cell_type": "code",
      "metadata": {
        "id": "oy-yiFDiReOo",
        "colab_type": "code",
        "colab": {}
      },
      "source": [
        "y_categorical = tf.contrib.keras.utils.to_categorical(train_categories,num_classes=2)\n",
        "test_y_categorical = tf.contrib.keras.utils.to_categorical(test_categories, num_classes=2)\n",
        "#y_categorical_test = tf.contrib.keras.utils.to_categorical(test_categories, num_classes=len(categories))"
      ],
      "execution_count": 0,
      "outputs": []
    },
    {
      "cell_type": "code",
      "metadata": {
        "id": "fSevL4z7DnSF",
        "colab_type": "code",
        "colab": {}
      },
      "source": [
        "#train_dataset[\"quality\"].unique\n",
        "y_categorical"
      ],
      "execution_count": 0,
      "outputs": []
    },
    {
      "cell_type": "markdown",
      "metadata": {
        "id": "VxNabx332Sc2",
        "colab_type": "text"
      },
      "source": [
        "## Load data from BigQuery [optional]"
      ]
    },
    {
      "cell_type": "code",
      "metadata": {
        "id": "mnGiKioJ2W4B",
        "colab_type": "code",
        "colab": {}
      },
      "source": [
        "from google.colab import auth\n",
        "auth.authenticate_user()"
      ],
      "execution_count": 0,
      "outputs": []
    },
    {
      "cell_type": "code",
      "metadata": {
        "id": "thpY1GNt2Z9Y",
        "colab_type": "code",
        "colab": {}
      },
      "source": [
        "project_id = '' #is needed use a cloud project id\n",
        "df_train = pd.io.gbq.read_gbq('''SELECT * FROM [socialagilelearning:iris.training]''', project_id=project_id, verbose=False)\n",
        "df_test = pd.io.gbq.read_gbq('''SELECT * FROM [socialagilelearning:iris.test]''', project_id=project_id, verbose=False)"
      ],
      "execution_count": 0,
      "outputs": []
    },
    {
      "cell_type": "code",
      "metadata": {
        "id": "WPDHvODK2wOr",
        "colab_type": "code",
        "colab": {}
      },
      "source": [
        "categories='Plants'\n",
        "train_plantfeatures, train_categories = df_train, df_train.pop(categories)\n",
        "test_plantfeatures, test_categories = df_test, df_test.pop(categories)"
      ],
      "execution_count": 0,
      "outputs": []
    },
    {
      "cell_type": "code",
      "metadata": {
        "id": "ROMSmFtI2_Qw",
        "colab_type": "code",
        "colab": {}
      },
      "source": [
        "y_categorical = tf.contrib.keras.utils.to_categorical(train_categories, num_classes=3)\n",
        "y_categorical_test = tf.contrib.keras.utils.to_categorical(test_categories, num_classes=3)"
      ],
      "execution_count": 0,
      "outputs": []
    },
    {
      "cell_type": "markdown",
      "metadata": {
        "id": "hXxeXsEIpRCT",
        "colab_type": "text"
      },
      "source": [
        "##  Build  the Dataset\n",
        "from_tensor_slices\n",
        "\n",
        "To build the dataset we will use tf.data.Dataset set of elements. "
      ]
    },
    {
      "cell_type": "code",
      "metadata": {
        "id": "tvbH7NGjpT6v",
        "colab_type": "code",
        "colab": {}
      },
      "source": [
        "#dataset = tf.data.Dataset.from_tensor_slices((train_features.values, y_categorical))\n",
        "dataset = tf.data.Dataset.from_tensor_slices((train_features.values, train_categories.values))\n",
        "dataset = dataset.batch(32)\n",
        "dataset = dataset.shuffle(1000)\n",
        "dataset = dataset.repeat()"
      ],
      "execution_count": 0,
      "outputs": []
    },
    {
      "cell_type": "code",
      "metadata": {
        "id": "3gj9O69fdCFA",
        "colab_type": "code",
        "colab": {}
      },
      "source": [
        "#dataset_test = tf.data.Dataset.from_tensor_slices((test_features.values, test_y_categorical))\n",
        "dataset_test = tf.data.Dataset.from_tensor_slices((test_features.values, test_categories.values))\n",
        "\n",
        "dataset_test = dataset_test.batch(32)\n",
        "dataset_test = dataset_test.shuffle(1000)\n",
        "dataset_test = dataset_test.repeat()"
      ],
      "execution_count": 0,
      "outputs": []
    },
    {
      "cell_type": "markdown",
      "metadata": {
        "id": "botE10MRRR4Y",
        "colab_type": "text"
      },
      "source": [
        "## Build  the Model"
      ]
    },
    {
      "cell_type": "code",
      "metadata": {
        "id": "GboZlVonPAPH",
        "colab_type": "code",
        "colab": {}
      },
      "source": [
        "model = tf.keras.Sequential([\n",
        "  tf.keras.layers.Dense(32, activation='relu', input_dim=2),\n",
        "  tf.keras.layers.Dense(64,activation='relu'),\n",
        "  tf.keras.layers.Dense(64,activation='relu'),\n",
        "  #tf.keras.layers.Dense(2, activation=tf.nn.softmax),\n",
        "    tf.keras.layers.Dense(2, activation=tf.nn.sigmoid),\n",
        "])\n",
        "\n",
        "model.summary()"
      ],
      "execution_count": 0,
      "outputs": []
    },
    {
      "cell_type": "code",
      "metadata": {
        "id": "MJDJFdpJ3WsF",
        "colab_type": "code",
        "colab": {}
      },
      "source": [
        "#op = tf.keras.optimizers.Adam(lr=0.0001, beta_1=0.9, beta_2=0.999, epsilon=None, decay=0.0, amsgrad=False)\n",
        "\n",
        "#optimizer='adam'\n",
        "##model.compile(loss='categorical_crossentropy',\n",
        "##              optimizer='adam',\n",
        "##              metrics=['accuracy'])\n",
        "\n"
      ],
      "execution_count": 0,
      "outputs": []
    },
    {
      "cell_type": "code",
      "metadata": {
        "id": "yWfoNmKLOqxp",
        "colab_type": "code",
        "colab": {}
      },
      "source": [
        "model.compile(loss='binary_crossentropy',\n",
        "              optimizer='rmsprop',\n",
        "              metrics=['accuracy'])"
      ],
      "execution_count": 0,
      "outputs": []
    },
    {
      "cell_type": "markdown",
      "metadata": {
        "id": "ydyf8tTawqSb",
        "colab_type": "text"
      },
      "source": [
        "## Train the Model"
      ]
    },
    {
      "cell_type": "code",
      "metadata": {
        "id": "jgM1M4HhwpWO",
        "colab_type": "code",
        "colab": {}
      },
      "source": [
        "early_stop = tf.keras.callbacks.EarlyStopping(monitor='loss', patience=20)\n",
        "\n",
        "model.fit(dataset, steps_per_epoch=32, epochs=300, callbacks=[early_stop], verbose=1)"
      ],
      "execution_count": 0,
      "outputs": []
    },
    {
      "cell_type": "markdown",
      "metadata": {
        "id": "S9S_jNi9SYyW",
        "colab_type": "text"
      },
      "source": [
        "## Eval the model"
      ]
    },
    {
      "cell_type": "code",
      "metadata": {
        "id": "0PYDj5XnwJUv",
        "colab_type": "code",
        "colab": {}
      },
      "source": [
        "loss, accuracy = model.evaluate(dataset_test, steps=32)\n",
        "\n",
        "print(\"loss:%f\"% (loss))\n",
        "print(\"accuracy: %f\"%   (accuracy))"
      ],
      "execution_count": 0,
      "outputs": []
    },
    {
      "cell_type": "markdown",
      "metadata": {
        "id": "o3elJjo4epBQ",
        "colab_type": "text"
      },
      "source": [
        "## Use the model"
      ]
    },
    {
      "cell_type": "markdown",
      "metadata": {
        "id": "UZmCpwEFfJrE",
        "colab_type": "text"
      },
      "source": [
        "If you need to test another specie, you can modify the **new_specie** array."
      ]
    },
    {
      "cell_type": "code",
      "metadata": {
        "id": "I3cZF27oeXDv",
        "colab_type": "code",
        "colab": {}
      },
      "source": [
        "new_vine = np.array([[10.0, 0.065]])\n",
        "prediction = model.predict_classes(new_vine)\n",
        "prediction\n",
        "if prediction[0] == 1:\n",
        "  print(\"Good\")\n",
        "else:\n",
        "  print(\"Bad\")"
      ],
      "execution_count": 0,
      "outputs": []
    },
    {
      "cell_type": "markdown",
      "metadata": {
        "id": "dHpXgdil2ipR",
        "colab_type": "text"
      },
      "source": [
        "## Save the model"
      ]
    },
    {
      "cell_type": "code",
      "metadata": {
        "id": "oZNFf5HbybVP",
        "colab_type": "code",
        "colab": {}
      },
      "source": [
        "!mkdir model"
      ],
      "execution_count": 0,
      "outputs": []
    },
    {
      "cell_type": "code",
      "metadata": {
        "id": "y3g4V4tOzC8v",
        "colab_type": "code",
        "colab": {}
      },
      "source": [
        "tf.keras.models.save_model(\n",
        "    model,\n",
        "    \"./model/iris_model.h5\",\n",
        "    overwrite=True,\n",
        "    include_optimizer=True\n",
        ")"
      ],
      "execution_count": 0,
      "outputs": []
    },
    {
      "cell_type": "code",
      "metadata": {
        "id": "s5y6VMkkzz90",
        "colab_type": "code",
        "colab": {}
      },
      "source": [
        "new_model = tf.keras.models.load_model(\"./model/iris_model.h5\")\n",
        "\n",
        "xarray2 = np.array([7.9,3.8,6.4,2.0])\n",
        "\n",
        "pred = np.around(new_model.predict(np.expand_dims(xarray2, axis=0))).astype(np.int)[0]\n",
        "\n",
        "print(pred)\n",
        "\n",
        "print(\"That means it's a %s\" % species[pred.astype(np.bool)][0])"
      ],
      "execution_count": 0,
      "outputs": []
    },
    {
      "cell_type": "markdown",
      "metadata": {
        "id": "CqugxBws1r1o",
        "colab_type": "text"
      },
      "source": [
        "## Visualize the Graph"
      ]
    },
    {
      "cell_type": "code",
      "metadata": {
        "id": "w5U0UOk61AgH",
        "colab_type": "code",
        "colab": {}
      },
      "source": [
        "graph = tf.get_default_graph()"
      ],
      "execution_count": 0,
      "outputs": []
    },
    {
      "cell_type": "code",
      "metadata": {
        "id": "uIpQP68F1OjP",
        "colab_type": "code",
        "colab": {}
      },
      "source": [
        "# Let's visualize our graph!\n",
        "# Tip: to make your graph more readable you can add a\n",
        "# name=\"...\" parameter to the individual Ops.\n",
        "\n",
        "# src: https://github.com/tensorflow/tensorflow/blob/master/tensorflow/examples/tutorials/deepdream/deepdream.ipynb\n",
        "# requeried if is not importated before\n",
        "# import tensorflow as tf\n",
        "# import numpy as np\n",
        "\n",
        "from IPython.display import clear_output, Image, display, HTML\n",
        "\n",
        "def strip_consts(graph_def, max_const_size=32):\n",
        "    \"\"\"Strip large constant values from graph_def.\"\"\"\n",
        "    strip_def = tf.GraphDef()\n",
        "    for n0 in graph_def.node:\n",
        "        n = strip_def.node.add() \n",
        "        n.MergeFrom(n0)\n",
        "        if n.op == 'Const':\n",
        "            tensor = n.attr['value'].tensor\n",
        "            size = len(tensor.tensor_content)\n",
        "            if size > max_const_size:\n",
        "                tensor.tensor_content = \"<stripped %d bytes>\"%size\n",
        "    return strip_def\n",
        "\n",
        "def show_graph(graph_def, max_const_size=32):\n",
        "    \"\"\"Visualize TensorFlow graph.\"\"\"\n",
        "    if hasattr(graph_def, 'as_graph_def'):\n",
        "        graph_def = graph_def.as_graph_def()\n",
        "    strip_def = strip_consts(graph_def, max_const_size=max_const_size)\n",
        "    code = \"\"\"\n",
        "        <script>\n",
        "          function load() {{\n",
        "            document.getElementById(\"{id}\").pbtxt = {data};\n",
        "          }}\n",
        "        </script>\n",
        "        <link rel=\"import\" href=\"https://tensorboard.appspot.com/tf-graph-basic.build.html\" onload=load()>\n",
        "        <div style=\"height:600px\">\n",
        "          <tf-graph-basic id=\"{id}\"></tf-graph-basic>\n",
        "        </div>\n",
        "    \"\"\".format(data=repr(str(strip_def)), id='graph'+str(np.random.rand()))\n",
        "\n",
        "    iframe = \"\"\"\n",
        "        <iframe seamless style=\"width:1200px;height:620px;border:0\" srcdoc=\"{}\"></iframe>\n",
        "    \"\"\".format(code.replace('\"', '&quot;'))\n",
        "    display(HTML(iframe))"
      ],
      "execution_count": 0,
      "outputs": []
    },
    {
      "cell_type": "code",
      "metadata": {
        "id": "510AgV5K1VPD",
        "colab_type": "code",
        "colab": {}
      },
      "source": [
        "show_graph(graph)"
      ],
      "execution_count": 0,
      "outputs": []
    }
  ]
}