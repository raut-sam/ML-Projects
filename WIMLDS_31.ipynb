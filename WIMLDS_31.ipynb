{
  "nbformat": 4,
  "nbformat_minor": 0,
  "metadata": {
    "colab": {
      "name": "WIMLDS_31.ipynb",
      "version": "0.3.2",
      "provenance": [],
      "collapsed_sections": [],
      "include_colab_link": true
    },
    "kernelspec": {
      "name": "python3",
      "display_name": "Python 3"
    }
  },
  "cells": [
    {
      "cell_type": "markdown",
      "metadata": {
        "id": "view-in-github",
        "colab_type": "text"
      },
      "source": [
        "<a href=\"https://colab.research.google.com/github/raut-sam/Lets-try/blob/master/WIMLDS_31.ipynb\" target=\"_parent\"><img src=\"https://colab.research.google.com/assets/colab-badge.svg\" alt=\"Open In Colab\"/></a>"
      ]
    },
    {
      "cell_type": "code",
      "metadata": {
        "id": "JMsnwpl0a1R5",
        "colab_type": "code",
        "colab": {
          "base_uri": "https://localhost:8080/",
          "height": 139
        },
        "outputId": "5599e88c-d507-4447-e715-c92909303260"
      },
      "source": [
        "!pip install torch"
      ],
      "execution_count": 2,
      "outputs": [
        {
          "output_type": "stream",
          "text": [
            "Collecting torch\n",
            "\u001b[?25l  Downloading https://files.pythonhosted.org/packages/30/57/d5cceb0799c06733eefce80c395459f28970ebb9e896846ce96ab579a3f1/torch-1.2.0-cp36-cp36m-manylinux1_x86_64.whl (748.8MB)\n",
            "\u001b[K     |████████████████████████████████| 748.9MB 18kB/s \n",
            "\u001b[?25hRequirement already satisfied: numpy in /usr/local/lib/python3.6/dist-packages (from torch) (1.16.4)\n",
            "Installing collected packages: torch\n",
            "Successfully installed torch-1.2.0\n"
          ],
          "name": "stdout"
        }
      ]
    },
    {
      "cell_type": "code",
      "metadata": {
        "id": "3-_K3xhGbTlm",
        "colab_type": "code",
        "colab": {}
      },
      "source": [
        "import torch\n",
        "from torch import nn\n",
        "import numpy as np\n"
      ],
      "execution_count": 0,
      "outputs": []
    },
    {
      "cell_type": "code",
      "metadata": {
        "id": "wjM9_n4XcZ9A",
        "colab_type": "code",
        "colab": {}
      },
      "source": [
        "#PREPROCESSING\n",
        "text=['hey how are you','iam fine','good iam great','we can meet','great sure']   #dataset \n",
        "chars=set(''.join(text))\n",
        "int2char=dict(enumerate(chars))\n",
        "char2int={char:ind for ind, char in int2char.items()}"
      ],
      "execution_count": 0,
      "outputs": []
    },
    {
      "cell_type": "code",
      "metadata": {
        "id": "P7SaVXMTcgj0",
        "colab_type": "code",
        "colab": {
          "base_uri": "https://localhost:8080/",
          "height": 34
        },
        "outputId": "167c707c-ab11-4992-871e-175fb4eab211"
      },
      "source": [
        "print(int2char)"
      ],
      "execution_count": 6,
      "outputs": [
        {
          "output_type": "stream",
          "text": [
            "{0: ' ', 1: 'i', 2: 'u', 3: 'o', 4: 'g', 5: 'r', 6: 'f', 7: 'd', 8: 's', 9: 'e', 10: 'c', 11: 'w', 12: 'h', 13: 'm', 14: 'y', 15: 'n', 16: 'a', 17: 't'}\n"
          ],
          "name": "stdout"
        }
      ]
    },
    {
      "cell_type": "code",
      "metadata": {
        "id": "25y3gGm5ckJE",
        "colab_type": "code",
        "colab": {
          "base_uri": "https://localhost:8080/",
          "height": 34
        },
        "outputId": "820d1bc6-0bd3-4d9b-d0c7-e89e301a9f58"
      },
      "source": [
        "print(char2int)"
      ],
      "execution_count": 7,
      "outputs": [
        {
          "output_type": "stream",
          "text": [
            "{' ': 0, 'i': 1, 'u': 2, 'o': 3, 'g': 4, 'r': 5, 'f': 6, 'd': 7, 's': 8, 'e': 9, 'c': 10, 'w': 11, 'h': 12, 'm': 13, 'y': 14, 'n': 15, 'a': 16, 't': 17}\n"
          ],
          "name": "stdout"
        }
      ]
    },
    {
      "cell_type": "code",
      "metadata": {
        "id": "QF9-MrdVcpff",
        "colab_type": "code",
        "colab": {}
      },
      "source": [
        "#Finding the length of the \n",
        "maxlen=len(max(text,key=len))\n",
        "#Padding\n",
        "#A simple loop that loops through the list of the sentences and adds a ' ' whitespace until the length of the sentence matches the length of the longest sentence\n",
        "for i in range (len(text)):\n",
        "  while len(text[i])<maxlen:\n",
        "    text[i]+=' '"
      ],
      "execution_count": 0,
      "outputs": []
    },
    {
      "cell_type": "code",
      "metadata": {
        "id": "HNf-jyi1djuX",
        "colab_type": "code",
        "colab": {
          "base_uri": "https://localhost:8080/",
          "height": 187
        },
        "outputId": "a9f820f9-1c6f-4f2c-cd32-af1da8f391ff"
      },
      "source": [
        "#Creating lists that will hold our input and target sequences\n",
        "input_seq=[]\n",
        "target_seq=[]\n",
        "for i in range(len(text)):\n",
        "  input_seq.append(text[i][: -1])\n",
        "  target_seq.append(text[i][1 :])\n",
        "  print(\"Input sequence:{} \\n Target sequence:{}\".format(input_seq[i],target_seq[i]))"
      ],
      "execution_count": 33,
      "outputs": [
        {
          "output_type": "stream",
          "text": [
            "Input sequence:hey how are yo \n",
            " Target sequence:ey how are you\n",
            "Input sequence:iam fine       \n",
            " Target sequence:am fine       \n",
            "Input sequence:good iam great \n",
            " Target sequence:ood iam great \n",
            "Input sequence:we can meet    \n",
            " Target sequence:e can meet    \n",
            "Input sequence:great sure     \n",
            " Target sequence:reat sure     \n"
          ],
          "name": "stdout"
        }
      ]
    },
    {
      "cell_type": "code",
      "metadata": {
        "id": "vFnvGFXRewhb",
        "colab_type": "code",
        "colab": {}
      },
      "source": [
        "for i in range(len(text)):\n",
        "  input_seq[i]=[char2int[character] for character in input_seq[i]]\n",
        "  target_seq[i]=[char2int[character]for character in target_seq[i]]"
      ],
      "execution_count": 0,
      "outputs": []
    },
    {
      "cell_type": "code",
      "metadata": {
        "id": "OKvbNyxrgXsQ",
        "colab_type": "code",
        "colab": {}
      },
      "source": [
        "dict_size=len(char2int)\n",
        "seq_len=maxlen-1\n",
        "batch_size=len(text)"
      ],
      "execution_count": 0,
      "outputs": []
    },
    {
      "cell_type": "code",
      "metadata": {
        "id": "zfZrJgwBhl6X",
        "colab_type": "code",
        "colab": {}
      },
      "source": [
        "def one_hot_encode(sequence,dict_size,seq_len,batch_size):\n",
        "  features=np.zeros((batch_size,seq_len,dict_size),dtype=np.float32)\n",
        "  for i  in range(batch_size):\n",
        "    for u in range(seq_len):\n",
        "      features[i,u,sequence[i][u]]=1\n",
        "  return features"
      ],
      "execution_count": 0,
      "outputs": []
    },
    {
      "cell_type": "code",
      "metadata": {
        "id": "vS6q-G03iOBn",
        "colab_type": "code",
        "colab": {}
      },
      "source": [
        "input_seq=one_hot_encode(input_seq,dict_size,seq_len,batch_size)"
      ],
      "execution_count": 0,
      "outputs": []
    },
    {
      "cell_type": "code",
      "metadata": {
        "id": "wrbvM-1LiacZ",
        "colab_type": "code",
        "colab": {}
      },
      "source": [
        "input_seq=torch.from_numpy(input_seq)\n",
        "target_seq=torch.Tensor(target_seq) "
      ],
      "execution_count": 0,
      "outputs": []
    },
    {
      "cell_type": "code",
      "metadata": {
        "id": "c9hK8DQAio_W",
        "colab_type": "code",
        "colab": {
          "base_uri": "https://localhost:8080/",
          "height": 34
        },
        "outputId": "c741fd1f-6d9e-41a5-c4bd-f6142b6fed0f"
      },
      "source": [
        "is_cuda= torch.cuda.is_available()\n",
        "if is_cuda:\n",
        "  device=torch.device(\"cuda\")\n",
        "  print(\"GPU is available\")\n",
        "else:\n",
        "  device=torch.device(\"cpu\")\n",
        "  print(\"GPU is not available, CPU is used\")"
      ],
      "execution_count": 42,
      "outputs": [
        {
          "output_type": "stream",
          "text": [
            "GPU is not available, CPU is used\n"
          ],
          "name": "stdout"
        }
      ]
    },
    {
      "cell_type": "code",
      "metadata": {
        "id": "zmVph0W6jaNQ",
        "colab_type": "code",
        "colab": {}
      },
      "source": [
        "class Model(nn.Module):\n",
        "    def __init__(self, input_size, output_size, hidden_dim, n_layers):\n",
        "        super(Model, self).__init__()\n",
        "\n",
        "        # Defining some parameters #self is an object that we are defining \n",
        "        self.hidden_dim = hidden_dim\n",
        "        self.n_layers = n_layers\n",
        "\n",
        "        #Defining the layers\n",
        "        # RNN Layer\n",
        "        self.rnn = nn.RNN(input_size, hidden_dim, n_layers, batch_first=True)   \n",
        "        # Fully connected layer(i.e every node inone layer is taking input from previous layer) not every layer is FC\n",
        "        self.fc = nn.Linear(hidden_dim, output_size)\n",
        "    \n",
        "    def forward(self, x):\n",
        "        \n",
        "        batch_size = x.size(0)\n",
        "\n",
        "        # Initializing hidden state for first input using method defined below\n",
        "        hidden = self.init_hidden(batch_size)\n",
        "\n",
        "        # Passing in the input and hidden state into the model and obtaining outputs\n",
        "        out, hidden = self.rnn(x, hidden)\n",
        "        \n",
        "        # Reshaping the outputs such that it can be fit into the fully connected layer\n",
        "        out = out.contiguous().view(-1, self.hidden_dim)\n",
        "        out = self.fc(out)\n",
        "        \n",
        "        return out, hidden\n",
        "    \n",
        "    def init_hidden(self, batch_size):\n",
        "        # This method generates the first hidden state of zeros which we'll use in the forward pass\n",
        "        # We'll send the tensor holding the hidden state to the device we specified earlier as well\n",
        "        hidden = torch.zeros(self.n_layers, batch_size, self.hidden_dim)\n",
        "        return hidden"
      ],
      "execution_count": 0,
      "outputs": []
    },
    {
      "cell_type": "code",
      "metadata": {
        "id": "tqQ6iMtfkpnT",
        "colab_type": "code",
        "colab": {
          "base_uri": "https://localhost:8080/",
          "height": 85
        },
        "outputId": "e4b957c9-085a-4f7a-be05-d5d521e3d421"
      },
      "source": [
        "# Instantiate the model with hyperparameters\n",
        "model = Model(input_size=dict_size, output_size=dict_size, hidden_dim=12, n_layers=1)\n",
        "# We'll also set the model to the device that we defined earlier (default is CPU)\n",
        "model.to(device)\n",
        "\n",
        "print (model)\n",
        "# Define hyperparameters\n",
        "n_epochs = 100\n",
        "lr=0.01\n",
        "\n",
        "# Define Loss, Optimizer\n",
        "criterion = nn.CrossEntropyLoss()\n",
        "optimizer = torch.optim.Adam(model.parameters(), lr=lr)"
      ],
      "execution_count": 44,
      "outputs": [
        {
          "output_type": "stream",
          "text": [
            "Model(\n",
            "  (rnn): RNN(18, 12, batch_first=True)\n",
            "  (fc): Linear(in_features=12, out_features=18, bias=True)\n",
            ")\n"
          ],
          "name": "stdout"
        }
      ]
    },
    {
      "cell_type": "code",
      "metadata": {
        "id": "dQfpNqA1ks_G",
        "colab_type": "code",
        "colab": {
          "base_uri": "https://localhost:8080/",
          "height": 187
        },
        "outputId": "5fd890d0-5326-4078-8529-56d0fba587d0"
      },
      "source": [
        "# Training Run\n",
        "for epoch in range(1, n_epochs + 1):\n",
        "    optimizer.zero_grad() # Clears existing gradients from previous epoch\n",
        "    input_seq.to(device)\n",
        "    output, hidden = model(input_seq)\n",
        "    loss = criterion(output, target_seq.view(-1).long())\n",
        "    loss.backward() # Does backpropagation and calculates gradients\n",
        "    optimizer.step() # Updates the weights accordingly\n",
        "    \n",
        "    if epoch%10 == 0:\n",
        "        print('Epoch: {}/{}.............'.format(epoch, n_epochs), end=' ')\n",
        "        print(\"Loss: {:.4f}\".format(loss.item()))"
      ],
      "execution_count": 45,
      "outputs": [
        {
          "output_type": "stream",
          "text": [
            "Epoch: 10/100............. Loss: 2.3708\n",
            "Epoch: 20/100............. Loss: 1.9875\n",
            "Epoch: 30/100............. Loss: 1.6290\n",
            "Epoch: 40/100............. Loss: 1.2928\n",
            "Epoch: 50/100............. Loss: 1.0021\n",
            "Epoch: 60/100............. Loss: 0.7729\n",
            "Epoch: 70/100............. Loss: 0.5949\n",
            "Epoch: 80/100............. Loss: 0.4529\n",
            "Epoch: 90/100............. Loss: 0.3456\n",
            "Epoch: 100/100............. Loss: 0.2694\n"
          ],
          "name": "stdout"
        }
      ]
    },
    {
      "cell_type": "code",
      "metadata": {
        "id": "ro-nfDSakzYl",
        "colab_type": "code",
        "colab": {}
      },
      "source": [
        "def predict(model, character):\n",
        "    # One-hot encoding our input to fit into the model\n",
        "    character = np.array([[char2int[c] for c in character]])\n",
        "    character = one_hot_encode(character, dict_size, character.shape[1], 1)\n",
        "    character = torch.from_numpy(character)\n",
        "    character.to(device)\n",
        "    \n",
        "    out, hidden = model(character)\n",
        "\n",
        "    prob = nn.functional.softmax(out[-1], dim=0).data\n",
        "    # Taking the class with the highest probability score from the output\n",
        "    char_ind = torch.max(prob, dim=0)[1].item()\n",
        "\n",
        "    return int2char[char_ind], hidden"
      ],
      "execution_count": 0,
      "outputs": []
    },
    {
      "cell_type": "code",
      "metadata": {
        "id": "2zLNbAgUk36f",
        "colab_type": "code",
        "colab": {}
      },
      "source": [
        "# This function takes the desired output length and input characters as arguments, returning the produced sentence\n",
        "def sample(model, out_len, start='hey'):\n",
        "    model.eval() # eval mode\n",
        "    start = start.lower()\n",
        "    # First off, run through the starting characters\n",
        "    chars = [ch for ch in start]\n",
        "    size = out_len - len(chars)\n",
        "    # Now pass in the previous characters and get a new one\n",
        "    for ii in range(size):\n",
        "        char, h = predict(model, chars)\n",
        "        chars.append(char)\n",
        "\n",
        "    return ''.join(chars)"
      ],
      "execution_count": 0,
      "outputs": []
    },
    {
      "cell_type": "code",
      "metadata": {
        "id": "-K9uq5-hk7lI",
        "colab_type": "code",
        "colab": {}
      },
      "source": [
        ""
      ],
      "execution_count": 0,
      "outputs": []
    }
  ]
}